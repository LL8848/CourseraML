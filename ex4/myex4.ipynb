{
 "cells": [
  {
   "cell_type": "markdown",
   "metadata": {},
   "source": [
    "# Ex. 4 Neural Networks Learning"
   ]
  },
  {
   "cell_type": "markdown",
   "metadata": {},
   "source": [
    "## 1 Neural Neworks"
   ]
  },
  {
   "cell_type": "markdown",
   "metadata": {},
   "source": [
    "## 1.1 Visualizing the data"
   ]
  },
  {
   "cell_type": "code",
   "execution_count": 38,
   "metadata": {},
   "outputs": [],
   "source": [
    "# matplotlib inline\n",
    "import numpy as np\n",
    "import matplotlib.pyplot as plt\n",
    "import pandas as pd\n",
    "import scipy.io #Used to load the OCTAVE *.mat files\n",
    "import scipy.misc #Used to show matrix as an image\n",
    "import matplotlib.cm as cm #Used to display images in a specific colormap\n",
    "import random #To pick random images to display\n",
    "from scipy.special import expit #Vectorized sigmoid function\n",
    "from scipy.optimize import minimize # for minimizing the cost function"
   ]
  },
  {
   "cell_type": "code",
   "execution_count": 40,
   "metadata": {},
   "outputs": [],
   "source": [
    "datafile = 'data/ex3data1.mat'\n",
    "mat = scipy.io.loadmat( datafile )\n",
    "X, y = mat['X'], mat['y']\n",
    "[m,n] = X.shape  \n",
    "y = y.ravel() # turn y into a 1d array\n",
    "# y[y == 10] = 0 # in the Coursara's course, \n",
    "               # character '0' was labeled as '10' for the convenience in MATLAB\n",
    "               # here, I change it back to '0' for the convenience in Python\n",
    "# convert each character label to a vector\n",
    "Y = np.zeros((m,10))\n",
    "for yi,Yi in zip(y,Y):\n",
    "    Yi[yi-1] = 1.0\n",
    "        \n",
    "#Insert a column of 1's to X as usual\n",
    "X = np.insert(X,0,1,axis=1)\n"
   ]
  },
  {
   "cell_type": "code",
   "execution_count": 41,
   "metadata": {},
   "outputs": [],
   "source": [
    "from PIL import Image\n",
    "\n",
    "def getDatumImg(row):\n",
    "    \"\"\"\n",
    "    Function that is handed a single np array with shape 1x400,\n",
    "    crates an image object from it, and returns it\n",
    "    \"\"\"\n",
    "    width, height = 20, 20\n",
    "    square = row[1:].reshape(width,height)\n",
    "    return square.T\n",
    "    \n",
    "def displayData(indices_to_display = None):\n",
    "    \"\"\"\n",
    "    Function that picks 100 random rows from X, creates a 20x20 image from each,\n",
    "    then stitches them together into a 10x10 grid of images, and shows it.\n",
    "    \"\"\"\n",
    "    width, height = 20, 20\n",
    "    nrows, ncols = 10, 10\n",
    "    if not indices_to_display:\n",
    "        indices_to_display = random.sample(range(X.shape[0]), nrows*ncols)\n",
    "        \n",
    "    big_picture = np.zeros((height*nrows,width*ncols))\n",
    "    \n",
    "    irow, icol = 0, 0\n",
    "    for idx in indices_to_display:\n",
    "        if icol == ncols:\n",
    "            irow += 1\n",
    "            icol  = 0\n",
    "        iimg = getDatumImg(X[idx])\n",
    "        big_picture[irow*height:irow*height+iimg.shape[0],icol*width:icol*width+iimg.shape[1]] = iimg\n",
    "        icol += 1\n",
    "    fig = plt.figure(figsize=(6,6))\n",
    "#     img = scipy.misc.toimage( big_picture )\n",
    "    img = Image.fromarray(big_picture)\n",
    "    plt.imshow(img,cmap = cm.Greys_r)\n",
    "    plt.xticks([])\n",
    "    plt.yticks([])\n",
    "\n",
    "    \n",
    "def display1sample(X,y,nrow):\n",
    "    \"\"\"\n",
    "    Display a single sample (row)\n",
    "    \"\"\"\n",
    "    img = Image.fromarray(getDatumImg(X[nrow]))\n",
    "    plt.imshow(img,cmap = cm.Greys_r)\n",
    "    print(f'Labeled character is {y[nrow]}')"
   ]
  },
  {
   "cell_type": "code",
   "execution_count": 42,
   "metadata": {},
   "outputs": [
    {
     "name": "stdout",
     "output_type": "stream",
     "text": [
      "Labeled character is 10\n"
     ]
    },
    {
     "data": {
      "image/png": "[encoded data removed]",
      "text/plain": [
       "<Figure size 432x288 with 1 Axes>"
      ]
     },
     "metadata": {
      "needs_background": "light"
     },
     "output_type": "display_data"
    }
   ],
   "source": [
    "# Test the display functions\n",
    "display1sample(X,y,0)"
   ]
  },
  {
   "cell_type": "markdown",
   "metadata": {},
   "source": [
    "## 1.2 Model representation"
   ]
  },
  {
   "cell_type": "code",
   "execution_count": 43,
   "metadata": {},
   "outputs": [],
   "source": [
    "weightmat = scipy.io.loadmat('data/ex4weights1.mat')"
   ]
  },
  {
   "cell_type": "code",
   "execution_count": 44,
   "metadata": {},
   "outputs": [],
   "source": [
    "Theta1 = weightmat['Theta1'] # 25 by 401\n",
    "Theta2 = weightmat['Theta2'] # 10 by 26"
   ]
  },
  {
   "cell_type": "markdown",
   "metadata": {},
   "source": [
    "## 1.3 Feedforward the cost function"
   ]
  },
  {
   "cell_type": "code",
   "execution_count": 59,
   "metadata": {},
   "outputs": [],
   "source": [
    "def H(theta1,theta2,X):\n",
    "    \n",
    "    \"\"\"\n",
    "        theta1,2: 2d array\n",
    "        X: 2d of m by n\n",
    "    \"\"\"\n",
    "    z2 = theta1 @ X.T # z2: 25 by m\n",
    "    a2 = expit(z2) \n",
    "    a2 = np.insert(a2,0,1,axis=0) # a2: 26 by m\n",
    "    z3 = theta2 @ a2 # z3: 10 by m\n",
    "    a3 = expit(z3)\n",
    "    \n",
    "    return a3.T # return a 2d array of m by 10\n",
    "\n",
    "\n",
    "def h(theta1,theta2,x):\n",
    "    \n",
    "    \"\"\"\n",
    "        theta1,2: 2d array\n",
    "        x: 1d of n\n",
    "    \"\"\"    \n",
    "    z2 = theta1 @ x\n",
    "    a2 = expit(z2)\n",
    "    a2 = np.insert(a2,0,1)\n",
    "    z3 = theta2 @ a2\n",
    "    a3 = expit(z3)\n",
    "    \n",
    "    return a3 # 1d array of 10\n",
    "\n",
    "def forwardProg(thetalist,x):\n",
    "    \n",
    "    \"\"\"\n",
    "        thetalist: list of theta\n",
    "    \"\"\"\n",
    "    a = []\n",
    "    z = []\n",
    "    a.append(x[1:]) # input layer\n",
    "    for theta in thetalist:\n",
    "        # propagate to next layer\n",
    "        z.append(theta @ np.insert(a[-1],0,1))\n",
    "        a.append(expit(z[-1]))\n",
    "    \n",
    "    return a[1:], z"
   ]
  },
  {
   "cell_type": "code",
   "execution_count": 60,
   "metadata": {
    "scrolled": true
   },
   "outputs": [
    {
     "data": {
      "text/plain": [
       "array([4.79026796e-04, 2.41495958e-03, 3.44755685e-03, 4.05616281e-05,\n",
       "       6.53412433e-03, 1.75930169e-03, 1.15788527e-02, 2.39107046e-03,\n",
       "       1.97025086e-03, 9.95696931e-01])"
      ]
     },
     "execution_count": 60,
     "metadata": {},
     "output_type": "execute_result"
    }
   ],
   "source": [
    "h(Theta1,Theta2,X[1])"
   ]
  },
  {
   "cell_type": "code",
   "execution_count": 47,
   "metadata": {},
   "outputs": [],
   "source": [
    "al, zl = forwardProg([Theta1,Theta2],X[1])"
   ]
  },
  {
   "cell_type": "code",
   "execution_count": 54,
   "metadata": {},
   "outputs": [
    {
     "data": {
      "text/plain": [
       "3"
      ]
     },
     "execution_count": 54,
     "metadata": {},
     "output_type": "execute_result"
    }
   ],
   "source": []
  },
  {
   "cell_type": "code",
   "execution_count": 61,
   "metadata": {},
   "outputs": [],
   "source": [
    "def costFunction(thetalist,X,Y):\n",
    "    \n",
    "    \"\"\"\n",
    "        Compute cost function without regularization\n",
    "    \"\"\"\n",
    "    m = X.shape[0]\n",
    "    # unvectorize\n",
    "    mysum = 0\n",
    "    for i in range(0,m):\n",
    "        a, z = forwardProg(thetalist,X[i])\n",
    "        term1 =  (- Y[i]) @ np.log(a[-1]) # a[-1] is last element of a, which is the output layer\n",
    "        term2 = (1 - Y[i]) @ np.log(1 - a[-1])\n",
    "        mysum += (term1 - term2)\n",
    "\n",
    "    J = mysum / m    \n",
    "    \n",
    "    return J\n",
    "\n"
   ]
  },
  {
   "cell_type": "code",
   "execution_count": 62,
   "metadata": {},
   "outputs": [],
   "source": [
    "def rgcostFunction(thetalist,X,Y,mylambda = 0):\n",
    "\n",
    "    \"\"\"\n",
    "        Compute cost function with regularization\n",
    "    \"\"\"\n",
    "    \n",
    "    J0 = costFunction(thetalist,X,Y)\n",
    "        \n",
    "    rgterm = 0\n",
    "    for theta in thetalist:\n",
    "        rgterm += np.sum(np.square(theta[:,1:]))\n",
    "    rgterm = rgterm * mylambda / (2 * X.shape[0])\n",
    "    \n",
    "    J = J0 + rgterm\n",
    "    \n",
    "    return J"
   ]
  },
  {
   "cell_type": "code",
   "execution_count": 63,
   "metadata": {},
   "outputs": [
    {
     "data": {
      "text/plain": [
       "0.2876291651613188"
      ]
     },
     "execution_count": 63,
     "metadata": {},
     "output_type": "execute_result"
    }
   ],
   "source": [
    "costFunction([Theta1,Theta2],X,Y,)"
   ]
  },
  {
   "cell_type": "code",
   "execution_count": 64,
   "metadata": {},
   "outputs": [
    {
     "data": {
      "text/plain": [
       "0.38376985909092354"
      ]
     },
     "execution_count": 64,
     "metadata": {},
     "output_type": "execute_result"
    }
   ],
   "source": [
    "rgcostFunction([Theta1,Theta2],X,Y,1)"
   ]
  },
  {
   "cell_type": "markdown",
   "metadata": {},
   "source": [
    "## 2 Backpropagation"
   ]
  },
  {
   "cell_type": "markdown",
   "metadata": {},
   "source": [
    "### 2.1 Sigmoid gradient"
   ]
  },
  {
   "cell_type": "code",
   "execution_count": 92,
   "metadata": {},
   "outputs": [],
   "source": [
    "# Sigmoid gradient\n",
    "\n",
    "def sigmoidGradient(z):\n",
    "    g = expit(z)\n",
    "    grad = g * (1 - g)\n",
    "    return grad"
   ]
  },
  {
   "cell_type": "code",
   "execution_count": 93,
   "metadata": {},
   "outputs": [
    {
     "data": {
      "text/plain": [
       "4.5395807735907655e-05"
      ]
     },
     "execution_count": 93,
     "metadata": {},
     "output_type": "execute_result"
    }
   ],
   "source": [
    "sigmoidGradient(10)"
   ]
  },
  {
   "cell_type": "markdown",
   "metadata": {},
   "source": [
    "### 2.2 Random initialization"
   ]
  },
  {
   "cell_type": "code",
   "execution_count": 13,
   "metadata": {},
   "outputs": [],
   "source": [
    "# These are some global variables I'm suing to ensure the sizes\n",
    "# of various matrices are correct\n",
    "#these are NOT including bias nits\n",
    "input_layer_size = 400\n",
    "hidden_layer_size = 25\n",
    "output_layer_size = 10 \n",
    "\n",
    "eps_ini = 0.12\n",
    "\n",
    "theta1 = np.random.random((hidden_layer_size,input_layer_size + 1 )) * 2 * eps_ini - eps_ini\n",
    "theta2 = np.random.random((output_layer_size,hidden_layer_size + 1 )) * 2 * eps_ini - eps_ini"
   ]
  },
  {
   "cell_type": "code",
   "execution_count": 20,
   "metadata": {},
   "outputs": [
    {
     "data": {
      "text/plain": [
       "(10, 26)"
      ]
     },
     "execution_count": 20,
     "metadata": {},
     "output_type": "execute_result"
    }
   ],
   "source": [
    "theta2.shape"
   ]
  },
  {
   "cell_type": "markdown",
   "metadata": {},
   "source": [
    "### 2.3 Backpropagation"
   ]
  },
  {
   "cell_type": "code",
   "execution_count": null,
   "metadata": {},
   "outputs": [],
   "source": [
    "# a[]: length of 2\n",
    "# z[]: length of 2"
   ]
  },
  {
   "cell_type": "code",
   "execution_count": 140,
   "metadata": {},
   "outputs": [],
   "source": [
    "def gradient(thetalist,X,Y):\n",
    "    \n",
    "    [theta1, theta2] = thetalist\n",
    "    DELTA1 = 0\n",
    "    DELTA2 = 0\n",
    "    for i in range(m):\n",
    "        alist, zlist = forwardProg(thetalist,X[i])   # alist, zlist are lists with length of 2\n",
    "                                             # Here, a = [a2, a3],  z = [z2, z3]\n",
    "#         delta = [0] * len(a) # initialize delta, with the same size of a and z\n",
    "        [a2,a3] = alist\n",
    "        [z2,z3] = zlist\n",
    "        a2 = np.insert(a2,0,1) # add the bias term ( +1 ) to the activation vectors\n",
    "        a1 = np.insert(X[i],0,1)\n",
    "        z2 = np.insert(z2,0,1)\n",
    "        delta3 = a3 - Y[i] # 1d array of 10\n",
    "        delta2 = (theta2.T @ delta3) * sigmoidGradient(z2)\n",
    "        delta2 = delta2[1:]\n",
    "        DELTA1 += delta2.reshape((-1,1)) @ a1.reshape((1,-1))\n",
    "        DELTA2 += delta3.reshape((-1,1)) @ a2.reshape((1,-1))\n",
    "    \n",
    "    return DELTA1 / X.shape[0], DELTA2 / X.shape[0]"
   ]
  },
  {
   "cell_type": "code",
   "execution_count": 141,
   "metadata": {},
   "outputs": [],
   "source": [
    "grad1, grad2 = gradient([theta1,theta2],X,Y)"
   ]
  },
  {
   "cell_type": "code",
   "execution_count": 152,
   "metadata": {},
   "outputs": [],
   "source": [
    "def numericalGradient(thetalist,X,Y):\n",
    "    eps = 0.0001\n",
    "    [theta1, theta2] = thetalist\n",
    "    grad1, grad2 = gradient([theta1,theta2],X,Y)\n",
    "    GRAD = np.concatenate((grad1.ravel(),grad2.ravel()))\n",
    "    f = np.zeros(theta1.size + theta2.size)\n",
    "#     for i in range(theta1.size + theta2.size):\n",
    "    i = 1020\n",
    "    THETA = np.concatenate((theta1.ravel(),theta2.ravel()))\n",
    "    T = np.zeros_like(THETA)\n",
    "    T[i] = eps\n",
    "    THETA_PLUS = THETA + T\n",
    "    THETA_MINUS = THETA - T\n",
    "\n",
    "    f[i] = (rgcostFunction([THETA_PLUS[0:theta1.size].reshape(theta1.shape),THETA_PLUS[theta1.size:].reshape(theta2.shape)],X,Y)\n",
    "         - rgcostFunction([THETA_MINUS[0:theta1.size].reshape(theta1.shape),THETA_MINUS[theta1.size:].reshape(theta2.shape)],X,Y)) / (2 * eps)\n",
    "    print(f\"i = {i}, f[i] = {f[i]}, relative difference = {GRAD[i] - f[i]}\")\n",
    "    return f"
   ]
  },
  {
   "cell_type": "code",
   "execution_count": 153,
   "metadata": {},
   "outputs": [
    {
     "name": "stdout",
     "output_type": "stream",
     "text": [
      "i = 1020, f[i] = -0.002607115581199082, relative difference = -0.006291219548468761\n"
     ]
    },
    {
     "data": {
      "text/plain": [
       "array([0., 0., 0., ..., 0., 0., 0.])"
      ]
     },
     "execution_count": 153,
     "metadata": {},
     "output_type": "execute_result"
    }
   ],
   "source": [
    "numericalGradient([theta1,theta2],X,Y)"
   ]
  },
  {
   "cell_type": "code",
   "execution_count": 137,
   "metadata": {},
   "outputs": [
    {
     "data": {
      "text/plain": [
       "(25, 402)"
      ]
     },
     "execution_count": 137,
     "metadata": {},
     "output_type": "execute_result"
    }
   ],
   "source": [
    "grad1.shape"
   ]
  },
  {
   "cell_type": "code",
   "execution_count": 122,
   "metadata": {},
   "outputs": [
    {
     "data": {
      "text/plain": [
       "(260,)"
      ]
     },
     "execution_count": 122,
     "metadata": {},
     "output_type": "execute_result"
    }
   ],
   "source": [
    "theta2.ravel().shape"
   ]
  },
  {
   "cell_type": "code",
   "execution_count": null,
   "metadata": {},
   "outputs": [],
   "source": []
  }
 ],
 "metadata": {
  "kernelspec": {
   "display_name": "Python 3",
   "language": "python",
   "name": "python3"
  },
  "language_info": {
   "codemirror_mode": {
    "name": "ipython",
    "version": 3
   },
   "file_extension": ".py",
   "mimetype": "text/x-python",
   "name": "python",
   "nbconvert_exporter": "python",
   "pygments_lexer": "ipython3",
   "version": "3.7.3"
  }
 },
 "nbformat": 4,
 "nbformat_minor": 2
}
