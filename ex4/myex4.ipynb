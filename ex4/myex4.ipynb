{
 "cells": [
  {
   "cell_type": "markdown",
   "metadata": {},
   "source": [
    "# Ex. 4 Neural Networks Learning"
   ]
  },
  {
   "cell_type": "markdown",
   "metadata": {},
   "source": [
    "## 1 Neural Neworks"
   ]
  },
  {
   "cell_type": "markdown",
   "metadata": {},
   "source": [
    "## 1.1 Visualizing the data"
   ]
  },
  {
   "cell_type": "code",
   "execution_count": 113,
   "metadata": {},
   "outputs": [],
   "source": [
    "# matplotlib inline\n",
    "import numpy as np\n",
    "import matplotlib.pyplot as plt\n",
    "import pandas as pd\n",
    "import scipy.io #Used to load the OCTAVE *.mat files\n",
    "import scipy.misc #Used to show matrix as an image\n",
    "import matplotlib.cm as cm #Used to display images in a specific colormap\n",
    "import random #To pick random images to display\n",
    "from scipy.special import expit #Vectorized sigmoid function\n",
    "from scipy.optimize import minimize # for minimizing the cost function"
   ]
  },
  {
   "cell_type": "code",
   "execution_count": 114,
   "metadata": {},
   "outputs": [],
   "source": [
    "datafile = 'data/ex3data1.mat'\n",
    "mat = scipy.io.loadmat( datafile )\n",
    "X, y = mat['X'], mat['y']\n",
    "[m,n] = X.shape  \n",
    "y = y.ravel() # turn y into a 1d array\n",
    "# y[y == 10] = 0 # in the Coursara's course, \n",
    "               # character '0' was labeled as '10' for the convenience in MATLAB\n",
    "               # here, I change it back to '0' for the convenience in Python\n",
    "# convert each character label to a vector\n",
    "Y = np.zeros((m,10))\n",
    "for yi,Yi in zip(y,Y):\n",
    "    Yi[yi-1] = 1.0\n",
    "        \n",
    "#Insert a column of 1's to X as usual\n",
    "X = np.insert(X,0,1,axis=1)\n"
   ]
  },
  {
   "cell_type": "code",
   "execution_count": 3,
   "metadata": {},
   "outputs": [],
   "source": [
    "from PIL import Image\n",
    "\n",
    "def getDatumImg(row):\n",
    "    \"\"\"\n",
    "    Function that is handed a single np array with shape 1x400,\n",
    "    crates an image object from it, and returns it\n",
    "    \"\"\"\n",
    "    width, height = 20, 20\n",
    "    square = row[1:].reshape(width,height)\n",
    "    return square.T\n",
    "    \n",
    "def displayData(indices_to_display = None):\n",
    "    \"\"\"\n",
    "    Function that picks 100 random rows from X, creates a 20x20 image from each,\n",
    "    then stitches them together into a 10x10 grid of images, and shows it.\n",
    "    \"\"\"\n",
    "    width, height = 20, 20\n",
    "    nrows, ncols = 10, 10\n",
    "    if not indices_to_display:\n",
    "        indices_to_display = random.sample(range(X.shape[0]), nrows*ncols)\n",
    "        \n",
    "    big_picture = np.zeros((height*nrows,width*ncols))\n",
    "    \n",
    "    irow, icol = 0, 0\n",
    "    for idx in indices_to_display:\n",
    "        if icol == ncols:\n",
    "            irow += 1\n",
    "            icol  = 0\n",
    "        iimg = getDatumImg(X[idx])\n",
    "        big_picture[irow*height:irow*height+iimg.shape[0],icol*width:icol*width+iimg.shape[1]] = iimg\n",
    "        icol += 1\n",
    "    fig = plt.figure(figsize=(6,6))\n",
    "#     img = scipy.misc.toimage( big_picture )\n",
    "    img = Image.fromarray(big_picture)\n",
    "    plt.imshow(img,cmap = cm.Greys_r)\n",
    "    plt.xticks([])\n",
    "    plt.yticks([])\n",
    "\n",
    "    \n",
    "def display1sample(X,y,nrow):\n",
    "    \"\"\"\n",
    "    Display a single sample (row)\n",
    "    \"\"\"\n",
    "    img = Image.fromarray(getDatumImg(X[nrow]))\n",
    "    plt.imshow(img,cmap = cm.Greys_r)\n",
    "    print(f'Labeled character is {y[nrow]}')"
   ]
  },
  {
   "cell_type": "code",
   "execution_count": 115,
   "metadata": {},
   "outputs": [
    {
     "name": "stdout",
     "output_type": "stream",
     "text": [
      "Labeled character is 10\n"
     ]
    },
    {
     "data": {
      "image/png": "[encoded data removed]",
      "text/plain": [
       "<Figure size 432x288 with 1 Axes>"
      ]
     },
     "metadata": {
      "needs_background": "light"
     },
     "output_type": "display_data"
    }
   ],
   "source": [
    "# Test the display functions\n",
    "display1sample(X,y,0)"
   ]
  },
  {
   "cell_type": "markdown",
   "metadata": {},
   "source": [
    "## 1.2 Model representation"
   ]
  },
  {
   "cell_type": "code",
   "execution_count": 301,
   "metadata": {},
   "outputs": [],
   "source": [
    "weightmat = scipy.io.loadmat('data/ex4weights1.mat')"
   ]
  },
  {
   "cell_type": "code",
   "execution_count": 302,
   "metadata": {},
   "outputs": [],
   "source": [
    "Theta1 = weightmat['Theta1'] # 25 by 401\n",
    "Theta2 = weightmat['Theta2'] # 10 by 26"
   ]
  },
  {
   "cell_type": "markdown",
   "metadata": {},
   "source": [
    "## 1.3 Feedforward the cost function"
   ]
  },
  {
   "cell_type": "code",
   "execution_count": 303,
   "metadata": {},
   "outputs": [],
   "source": [
    "def H(theta1,theta2,X):\n",
    "    \n",
    "    \"\"\"\n",
    "        theta1,2: 2d array\n",
    "        X: 2d of m by n\n",
    "    \"\"\"\n",
    "    z2 = theta1 @ X.T # z2: 25 by m\n",
    "    a2 = expit(z2) \n",
    "    a2 = np.insert(a2,0,1,axis=0) # a2: 26 by m\n",
    "    z3 = theta2 @ a2 # z3: 10 by m\n",
    "    a3 = expit(z3)\n",
    "    \n",
    "    return a3.T # return a 2d array of m by 10\n",
    "\n",
    "\n",
    "def h(theta1,theta2,x):\n",
    "    \n",
    "    \"\"\"\n",
    "        theta1,2: 2d array\n",
    "        x: 1d of n\n",
    "    \"\"\"    \n",
    "    z2 = theta1 @ x\n",
    "    a2 = expit(z2)\n",
    "    a2 = np.insert(a2,0,1)\n",
    "    z3 = theta2 @ a2\n",
    "    a3 = expit(z3)\n",
    "    \n",
    "    return a3 # 1d array of 10\n",
    "\n",
    "def forwardProg(thetalist,x):\n",
    "    \n",
    "    \"\"\"\n",
    "        thetalist: list of theta\n",
    "    \"\"\"\n",
    "    a = []\n",
    "    z = []\n",
    "    a.append(x[1:]) # input layer\n",
    "    for theta in thetalist:\n",
    "        # propagate to next layer\n",
    "        z.append(theta @ np.insert(a[-1],0,1))\n",
    "        a.append(expit(z[-1]))\n",
    "    \n",
    "    return a[1:], z"
   ]
  },
  {
   "cell_type": "code",
   "execution_count": 304,
   "metadata": {
    "scrolled": true
   },
   "outputs": [
    {
     "data": {
      "text/plain": [
       "array([4.79026796e-04, 2.41495958e-03, 3.44755685e-03, 4.05616281e-05,\n",
       "       6.53412433e-03, 1.75930169e-03, 1.15788527e-02, 2.39107046e-03,\n",
       "       1.97025086e-03, 9.95696931e-01])"
      ]
     },
     "execution_count": 304,
     "metadata": {},
     "output_type": "execute_result"
    }
   ],
   "source": [
    "h(Theta1,Theta2,X[1])"
   ]
  },
  {
   "cell_type": "code",
   "execution_count": 305,
   "metadata": {},
   "outputs": [],
   "source": [
    "al, zl = forwardProg([Theta1,Theta2],X[1])"
   ]
  },
  {
   "cell_type": "code",
   "execution_count": null,
   "metadata": {},
   "outputs": [],
   "source": []
  },
  {
   "cell_type": "code",
   "execution_count": 306,
   "metadata": {},
   "outputs": [],
   "source": [
    "def costFunction(thetalist,X,Y):\n",
    "    \n",
    "    \"\"\"\n",
    "        Compute cost function without regularization\n",
    "    \"\"\"\n",
    "    m = X.shape[0]\n",
    "    # unvectorize\n",
    "    mysum = 0\n",
    "    for i in range(0,m):\n",
    "        a, z = forwardProg(thetalist,X[i])\n",
    "        term1 =  (- Y[i]) @ np.log(a[-1]) # a[-1] is last element of a, which is the output layer\n",
    "        term2 = (1 - Y[i]) @ np.log(1 - a[-1])\n",
    "        mysum += (term1 - term2)\n",
    "\n",
    "    J = mysum / m    \n",
    "    \n",
    "    return J\n",
    "\n"
   ]
  },
  {
   "cell_type": "code",
   "execution_count": 307,
   "metadata": {},
   "outputs": [],
   "source": [
    "def rgcostFunction(thetalist,X,Y,mylambda = 0):\n",
    "\n",
    "    \"\"\"\n",
    "        Compute cost function with regularization\n",
    "    \"\"\"\n",
    "    \n",
    "    J0 = costFunction(thetalist,X,Y)\n",
    "        \n",
    "    rgterm = 0\n",
    "    for theta in thetalist:\n",
    "        rgterm += np.sum(np.square(theta[:,1:]))\n",
    "    rgterm = rgterm * mylambda / (2 * X.shape[0])\n",
    "    \n",
    "    J = J0 + rgterm\n",
    "    \n",
    "    return J"
   ]
  },
  {
   "cell_type": "code",
   "execution_count": 308,
   "metadata": {},
   "outputs": [
    {
     "data": {
      "text/plain": [
       "0.2876291651613188"
      ]
     },
     "execution_count": 308,
     "metadata": {},
     "output_type": "execute_result"
    }
   ],
   "source": [
    "costFunction([Theta1,Theta2],X,Y)"
   ]
  },
  {
   "cell_type": "code",
   "execution_count": 309,
   "metadata": {},
   "outputs": [
    {
     "data": {
      "text/plain": [
       "0.38376985909092354"
      ]
     },
     "execution_count": 309,
     "metadata": {},
     "output_type": "execute_result"
    }
   ],
   "source": [
    "rgcostFunction([Theta1,Theta2],X,Y,1)"
   ]
  },
  {
   "cell_type": "code",
   "execution_count": null,
   "metadata": {},
   "outputs": [],
   "source": []
  },
  {
   "cell_type": "markdown",
   "metadata": {},
   "source": [
    "## 2 Backpropagation"
   ]
  },
  {
   "cell_type": "markdown",
   "metadata": {},
   "source": [
    "### 2.1 Sigmoid gradient"
   ]
  },
  {
   "cell_type": "code",
   "execution_count": 14,
   "metadata": {},
   "outputs": [],
   "source": [
    "# Sigmoid gradient\n",
    "\n",
    "def sigmoidGradient(z):\n",
    "    g = expit(z)\n",
    "    grad = g * (1 - g)\n",
    "    return grad"
   ]
  },
  {
   "cell_type": "code",
   "execution_count": 15,
   "metadata": {},
   "outputs": [
    {
     "data": {
      "text/plain": [
       "4.5395807735907655e-05"
      ]
     },
     "execution_count": 15,
     "metadata": {},
     "output_type": "execute_result"
    }
   ],
   "source": [
    "sigmoidGradient(10)"
   ]
  },
  {
   "cell_type": "markdown",
   "metadata": {},
   "source": [
    "### 2.2 Random initialization"
   ]
  },
  {
   "cell_type": "code",
   "execution_count": 359,
   "metadata": {},
   "outputs": [],
   "source": [
    "# These are some global variables I'm suing to ensure the sizes\n",
    "# of various matrices are correct\n",
    "#these are NOT including bias nits\n",
    "# input_layer_size = 400\n",
    "# hidden_layer_size = 25\n",
    "# output_layer_size = 10\n",
    "\n",
    "def randomInitialization(lsizelst,eps_ini = 0.12):\n",
    "    \"\"\"\n",
    "    lsizelst is a list of which each elemeter is the size of each layer (excluding the bias unit)\n",
    "    \"\"\"\n",
    "    \n",
    "    [input_layer_size,hidden_layer_size,output_layer_size] = lsizelst \n",
    "\n",
    "    theta1 = np.random.random((hidden_layer_size,input_layer_size + 1 )) * 2 * eps_ini - eps_ini\n",
    "    theta2 = np.random.random((output_layer_size,hidden_layer_size + 1 )) * 2 * eps_ini - eps_ini\n",
    "    \n",
    "    return [theta1,theta2]"
   ]
  },
  {
   "cell_type": "code",
   "execution_count": 360,
   "metadata": {},
   "outputs": [
    {
     "name": "stdout",
     "output_type": "stream",
     "text": [
      "(25, 401) (10, 26)\n"
     ]
    }
   ],
   "source": [
    "aa = randomInitialization([400,25,10])\n",
    "print(aa[0].shape,aa[1].shape)"
   ]
  },
  {
   "cell_type": "markdown",
   "metadata": {},
   "source": [
    "### 2.3 Backpropagation"
   ]
  },
  {
   "cell_type": "code",
   "execution_count": 18,
   "metadata": {},
   "outputs": [],
   "source": [
    "# a[]: length of 2\n",
    "# z[]: length of 2"
   ]
  },
  {
   "cell_type": "code",
   "execution_count": 274,
   "metadata": {},
   "outputs": [],
   "source": [
    "def computeGradient(thetalist,X,Y):\n",
    "    \n",
    "    [theta1, theta2] = thetalist\n",
    "    DELTA1 = np.zeros_like(theta1)\n",
    "    DELTA2 = np.zeros_like(theta2)\n",
    "    for i in range(X.shape[0]):\n",
    "        alist, zlist = forwardProg(thetalist,X[i])   # alist, zlist are lists with length of 2\n",
    "                                             # Here, a = [a2, a3],  z = [z2, z3]\n",
    "\n",
    "        [a2,a3] = alist\n",
    "        [z2,z3] = zlist\n",
    "        a2 = np.insert(a2,0,1) # add the bias term ( +1 ) to the activation vectors\n",
    "        a1 = X[i] # here X[i] already includes bias unit\n",
    "        z2 = np.insert(z2,0,1)\n",
    "        delta3 = a3 - Y[i] # 1d array of 10\n",
    "        delta2 = (theta2.T @ delta3) * sigmoidGradient(z2)\n",
    "        delta2 = delta2[1:]\n",
    "\n",
    "        DELTA1 += delta2.reshape((-1,1)) @ a1.reshape((1,-1))\n",
    "        DELTA2 += delta3.reshape((-1,1)) @ a2.reshape((1,-1))\n",
    "       \n",
    "    return DELTA1 / X.shape[0], DELTA2 / X.shape[0]"
   ]
  },
  {
   "cell_type": "code",
   "execution_count": 275,
   "metadata": {},
   "outputs": [],
   "source": []
  },
  {
   "cell_type": "code",
   "execution_count": 234,
   "metadata": {},
   "outputs": [],
   "source": [
    "grad1, grad2 = gradient([theta1,theta2],X,Y)"
   ]
  },
  {
   "cell_type": "code",
   "execution_count": 236,
   "metadata": {},
   "outputs": [
    {
     "data": {
      "text/plain": [
       "(10, 26)"
      ]
     },
     "execution_count": 236,
     "metadata": {},
     "output_type": "execute_result"
    }
   ],
   "source": [
    "grad2.shape"
   ]
  },
  {
   "cell_type": "code",
   "execution_count": 81,
   "metadata": {},
   "outputs": [],
   "source": [
    "def unroll(matrixlst):\n",
    "    \"\"\"\n",
    "    unroll a matrix list (eg, theta list) to a long vector\n",
    "    \"\"\"\n",
    "    length = 0\n",
    "    vector = np.array([])\n",
    "    for matrix in matrixlst:\n",
    "        vector = np.concatenate((vector,matrix.ravel()))\n",
    "    \n",
    "    return vector\n",
    "\n",
    "def roll(vector,lsizelst):\n",
    "    \"\"\"\n",
    "    lsizelst is a list of which each elemeter is the size of each layer (excluding the bias unit)\n",
    "    \"\"\"\n",
    "    ntheta = len(lsizelst) - 1\n",
    "    matrixlst = []\n",
    "#     for size1,size0 in zip(layersizelist[1:],layersizelist[:-1]):\n",
    "    index = 0\n",
    "    for i in range(ntheta):\n",
    "        nrow = lsizelst[i+1]\n",
    "        ncol = lsizelst[i]+1\n",
    "        matrixlst.append(vector[index:index+nrow*ncol].reshape((nrow,ncol)))\n",
    "#         print(matrixlst[i].shape)\n",
    "        index += nrow*ncol\n",
    "    return matrixlst"
   ]
  },
  {
   "cell_type": "code",
   "execution_count": 342,
   "metadata": {},
   "outputs": [
    {
     "data": {
      "text/plain": [
       "(10285,)"
      ]
     },
     "execution_count": 342,
     "metadata": {},
     "output_type": "execute_result"
    }
   ],
   "source": [
    "a = unroll([Theta1,Theta2])\n",
    "a.shape"
   ]
  },
  {
   "cell_type": "code",
   "execution_count": 344,
   "metadata": {},
   "outputs": [],
   "source": [
    "b = roll(a,[400,25,10])"
   ]
  },
  {
   "cell_type": "code",
   "execution_count": 345,
   "metadata": {},
   "outputs": [
    {
     "data": {
      "text/plain": [
       "(25, 401)"
      ]
     },
     "execution_count": 345,
     "metadata": {},
     "output_type": "execute_result"
    }
   ],
   "source": [
    "b[0].shape"
   ]
  },
  {
   "cell_type": "markdown",
   "metadata": {},
   "source": [
    "### 2.4 Gradient Checking"
   ]
  },
  {
   "cell_type": "code",
   "execution_count": 277,
   "metadata": {},
   "outputs": [],
   "source": [
    "def computeNumericalGradient(thetalist,X,Y,lsizelst):\n",
    "    eps = 0.0001   \n",
    "    vtheta = unroll(thetalist) # unroll the theta matrices to a long vector\n",
    "    vnumgrad = np.zeros_like(vtheta) # vector of numerical gradient\n",
    "    for i in range(vnumgrad.size):\n",
    "        vthetaPlus = np.copy(vtheta)\n",
    "        vthetaMinus = np.copy(vtheta)\n",
    "        vthetaPlus[i] += eps\n",
    "        vthetaMinus[i] -= eps\n",
    "        JthetaPlus = costFunction(roll(vthetaPlus,lsizelst),X,Y) \n",
    "        JthetaMinus = costFunction(roll(vthetaMinus,lsizelst),X,Y)\n",
    "        vnumgrad[i] = (JthetaPlus - JthetaMinus) / (2 * eps)\n",
    "\n",
    "    return roll(vnumgrad,lsizelst)\n",
    "        "
   ]
  },
  {
   "cell_type": "code",
   "execution_count": 272,
   "metadata": {},
   "outputs": [],
   "source": [
    "def checkNNGradients(X,Y,ninput = 20,mtest = 20,nhidden = 15,ti = 0):\n",
    "    \"\"\"\n",
    "    Use a fraction of input units (ie less features) and less hidden units to check the Gradient\n",
    "    ntest: number of features (or input layer units, not including the bias unit)\n",
    "    mtest: number of samples\n",
    "    nhidden: number of hidden units\n",
    "    ti: index of the first sample (better randomly choose one)\n",
    "    \"\"\"\n",
    "    print(\"Checking Neural Networks gradients ...\")\n",
    "    print(f\"Number of test input units: {ninput}\")\n",
    "    print(f\"Number of test hidden units: {nhidden}\")\n",
    "    print(f\"Use {mtest} samples, from {ti} to {ti + mtest - 1}\")\n",
    "    # starting index, better \n",
    "    Xtest = X[ti : ti + mtest,0 : ninput + 1]\n",
    "    Ytest = Y[ti : ti + mtest]\n",
    "\n",
    "    layer_size_list = [ninput,nhidden,10]\n",
    "    [th1,th2] = randomInitialization(layer_size_list)\n",
    "    [g1,g2] = computeGradient([th1,th2],Xtest,Ytest)\n",
    "    [ng1,ng2] = computeNumericalGradient([th1,th2],Xtest,Ytest,layer_size_list)\n",
    "    \n",
    "    difference = np.abs(unroll([g1,g2]) - unroll([ng1,ng2])) # a long unrolled vector\n",
    "    avediff = np.sum(difference) / difference.size # average difference between numerical gradient and backprog gradient\n",
    "    maxdiff = np.max(difference)\n",
    "    \n",
    "    print(\"\\nCheck Completed.\")\n",
    "    print(f\"Average difference: {avediff}\")\n",
    "    print(f\"Maximum difference: {maxdiff}\")\n",
    "    \n",
    "    return avediff, maxdiff"
   ]
  },
  {
   "cell_type": "code",
   "execution_count": 273,
   "metadata": {},
   "outputs": [
    {
     "name": "stdout",
     "output_type": "stream",
     "text": [
      "Checking Neural Networks gradients ...\n",
      "Number of test input units: 20\n",
      "Number of test hidden units: 15\n",
      "Use 60 samples, from 103 to 162\n",
      "\n",
      "Check Completed.\n",
      "Average difference: 1.391867642249423e-11\n",
      "Maximum difference: 1.1661921428540722e-10\n"
     ]
    },
    {
     "data": {
      "text/plain": [
       "(1.391867642249423e-11, 1.1661921428540722e-10)"
      ]
     },
     "execution_count": 273,
     "metadata": {},
     "output_type": "execute_result"
    }
   ],
   "source": [
    "checkNNGradients(X,Y,ninput = 20,mtest = 60,ti = 103)"
   ]
  },
  {
   "cell_type": "markdown",
   "metadata": {},
   "source": [
    "### 2.5 Regularized Neural Networks"
   ]
  },
  {
   "cell_type": "code",
   "execution_count": 331,
   "metadata": {},
   "outputs": [],
   "source": [
    "def rgcomputeGradient(thetalist,X,Y,mylambda):\n",
    "    \n",
    "    gradlist = computeGradient(thetalist,X,Y)\n",
    "    rggradlist = []\n",
    "    for grad,theta in zip(gradlist,thetalist):\n",
    "        rgterm = np.insert((mylambda / X.shape[0]) * theta[:,1:],0,0,axis=1)\n",
    "        rggradlist.append(grad + rgterm)\n",
    "        \n",
    "    return rggradlist"
   ]
  },
  {
   "cell_type": "code",
   "execution_count": 317,
   "metadata": {},
   "outputs": [],
   "source": [
    "def rgcomputeNumericalGradient(thetalist,X,Y,lsizelst,mylambda = 0):\n",
    "    eps = 0.0001   \n",
    "    vtheta = unroll(thetalist) # unroll the theta matrices to a long vector\n",
    "    vnumgrad = np.zeros_like(vtheta) # vector of numerical gradient\n",
    "    for i in range(vnumgrad.size):\n",
    "        vthetaPlus = np.copy(vtheta)\n",
    "        vthetaMinus = np.copy(vtheta)\n",
    "        vthetaPlus[i] += eps\n",
    "        vthetaMinus[i] -= eps\n",
    "        JthetaPlus = rgcostFunction(roll(vthetaPlus,lsizelst),X,Y,mylambda) \n",
    "        JthetaMinus = rgcostFunction(roll(vthetaMinus,lsizelst),X,Y,mylambda)\n",
    "        vnumgrad[i] = (JthetaPlus - JthetaMinus) / (2 * eps)\n",
    "\n",
    "    return roll(vnumgrad,lsizelst)"
   ]
  },
  {
   "cell_type": "code",
   "execution_count": 326,
   "metadata": {},
   "outputs": [],
   "source": [
    "def rgcheckNNGradients(X,Y,mylambda = 0,ninput = 20,mtest = 20,nhidden = 15,ti = 0):\n",
    "    \"\"\"\n",
    "    Use a fraction of input units (ie less features) and less hidden units to check the Gradient\n",
    "    ntest: number of features (or input layer units, not including the bias unit)\n",
    "    mtest: number of samples\n",
    "    nhidden: number of hidden units\n",
    "    ti: index of the first sample (better randomly choose one)\n",
    "    \"\"\"\n",
    "    print(\"Checking Neural Networks gradients ...\")\n",
    "    print(f\"Number of test input units: {ninput}\")\n",
    "    print(f\"Number of test hidden units: {nhidden}\")\n",
    "    print(f\"Use {mtest} samples, from {ti} to {ti + mtest - 1}\")\n",
    "    # starting index, better \n",
    "    Xtest = X[ti : ti + mtest,0 : ninput + 1]\n",
    "    Ytest = Y[ti : ti + mtest]\n",
    "\n",
    "    layer_size_list = [ninput,nhidden,10]\n",
    "    [th1,th2] = randomInitialization(layer_size_list)\n",
    "    [g1,g2] = rgcomputeGradient([th1,th2],Xtest,Ytest,mylambda)\n",
    "    [ng1,ng2] = rgcomputeNumericalGradient([th1,th2],Xtest,Ytest,layer_size_list,mylambda)\n",
    "    \n",
    "    difference = np.abs(unroll([g1,g2]) - unroll([ng1,ng2])) # a long unrolled vector\n",
    "    avediff = np.sum(difference) / difference.size # average difference between numerical gradient and backprog gradient\n",
    "    maxdiff = np.max(difference)\n",
    "    \n",
    "    print(\"\\nCheck Completed.\")\n",
    "    print(f\"Average difference: {avediff}\")\n",
    "    print(f\"Maximum difference: {maxdiff}\")\n",
    "    \n",
    "    return avediff, maxdiff"
   ]
  },
  {
   "cell_type": "code",
   "execution_count": 333,
   "metadata": {},
   "outputs": [
    {
     "name": "stdout",
     "output_type": "stream",
     "text": [
      "Checking Neural Networks gradients ...\n",
      "Number of test input units: 30\n",
      "Number of test hidden units: 15\n",
      "Use 20 samples, from 153 to 172\n",
      "\n",
      "Check Completed.\n",
      "Average difference: 4.024898492578232e-12\n",
      "Maximum difference: 6.234229799062518e-11\n"
     ]
    },
    {
     "data": {
      "text/plain": [
       "(4.024898492578232e-12, 6.234229799062518e-11)"
      ]
     },
     "execution_count": 333,
     "metadata": {},
     "output_type": "execute_result"
    }
   ],
   "source": [
    "rgcheckNNGradients(X,Y,mylambda=0.1,ninput=30,mtest=20,ti=153)"
   ]
  },
  {
   "cell_type": "markdown",
   "metadata": {},
   "source": [
    "### 2.6 Learning parameters"
   ]
  },
  {
   "cell_type": "code",
   "execution_count": 371,
   "metadata": {},
   "outputs": [],
   "source": [
    "def URrgcomputeGradient(vthetalist,X,Y,lsizelst,mylambda = 0):\n",
    "    \"\"\"\n",
    "    UnRolled version of computeGradient,using a unrolled vector of thetalist as input\n",
    "    \"\"\"\n",
    "    thetalist = roll(vthetalist,lsizelst)\n",
    "    gradlist = rgcomputeGradient(thetalist,X,Y,mylambda)\n",
    "    \n",
    "    return unroll(gradlist)\n",
    "    \n",
    "\n",
    "def URrgcostFunction(vthetalist,X,Y,lsizelst,mylambda = 0):\n",
    "    thetalist = roll(vthetalist,lsizelst)\n",
    "    return rgcostFunction(thetalist,X,Y,mylambda)\n"
   ]
  },
  {
   "cell_type": "code",
   "execution_count": 394,
   "metadata": {},
   "outputs": [],
   "source": [
    "def miniCost(theta0,X,Y,lsizelst,mylambda = .0,maxiter = 50):\n",
    "    \"\"\"\n",
    "        minimizing the cost function\n",
    "        theta0 must be a 1d array (obtained by unrolling the theta list)\n",
    "    \"\"\"\n",
    "    \n",
    "    result = minimize(URrgcostFunction, x0=theta0, args=(X,Y,lsizelst,mylambda), method='CG',\n",
    "                      jac = URrgcomputeGradient, options={'maxiter':maxiter,'disp':True})\n",
    "\n",
    "    return roll(result.x,lsizelst) # return the theta (1d array of n)"
   ]
  },
  {
   "cell_type": "code",
   "execution_count": 397,
   "metadata": {},
   "outputs": [],
   "source": [
    "# Train\n",
    "def LearnNN(X,Y,mylambda,layer_size_list = [400,25,10],maxiter = 50):\n",
    "    print(\"Learning Neural Network parameters\")\n",
    "    print(f\"lambda = {mylambda}, max iteration = {maxiter}\")\n",
    "    layer_size_list = [400,25,10]\n",
    "    mylambda = 0.1\n",
    "    theta0_lst = randomInitialization(layerSize)\n",
    "#     print(f\"theta1 shape: {theta0_lst[0].shape},theta2 shape: {theta0_lst[1].shape}\" )\n",
    "    vtheta0 = unroll(theta0_lst) # unroll the theta list to a long 1d array\n",
    "    theta_mini = miniCost(vtheta0,X,Y,layer_size_list,mylambda,maxiter)\n",
    "    print(\"Completed.\")\n",
    "    return theta_mini"
   ]
  },
  {
   "cell_type": "code",
   "execution_count": 398,
   "metadata": {},
   "outputs": [
    {
     "name": "stdout",
     "output_type": "stream",
     "text": [
      "Learning Neural Network parameters\n",
      "lambda = 0.1, max iteration = 400\n",
      "Warning: Maximum number of iterations has been exceeded.\n",
      "         Current function value: 0.071358\n",
      "         Iterations: 400\n",
      "         Function evaluations: 1135\n",
      "         Gradient evaluations: 1135\n",
      "Completed.\n"
     ]
    }
   ],
   "source": [
    "THETA1 = LearnNN(X,Y,mylambda=0.1,maxiter=400)"
   ]
  },
  {
   "cell_type": "code",
   "execution_count": 401,
   "metadata": {
    "scrolled": false
   },
   "outputs": [
    {
     "name": "stdout",
     "output_type": "stream",
     "text": [
      "Learning Neural Network parameters\n",
      "lambda = 1, max iteration = 400\n",
      "Warning: Maximum number of iterations has been exceeded.\n",
      "         Current function value: 0.072896\n",
      "         Iterations: 400\n",
      "         Function evaluations: 1156\n",
      "         Gradient evaluations: 1156\n",
      "Completed.\n"
     ]
    }
   ],
   "source": [
    "THETA2 = LearnNN(X,Y,mylambda=1,maxiter=400)"
   ]
  },
  {
   "cell_type": "code",
   "execution_count": 424,
   "metadata": {},
   "outputs": [
    {
     "name": "stdout",
     "output_type": "stream",
     "text": [
      "Learning Neural Network parameters\n",
      "lambda = 0, max iteration = 400\n",
      "Warning: Maximum number of iterations has been exceeded.\n",
      "         Current function value: 0.068683\n",
      "         Iterations: 400\n",
      "         Function evaluations: 1164\n",
      "         Gradient evaluations: 1164\n",
      "Completed.\n"
     ]
    }
   ],
   "source": [
    "THETA3 = LearnNN(X,Y,mylambda=0,maxiter=400)"
   ]
  },
  {
   "cell_type": "code",
   "execution_count": 418,
   "metadata": {},
   "outputs": [],
   "source": [
    "def predictNN(theta1,theta2,x):\n",
    "    \n",
    "    \"\"\"\n",
    "        use trained neural network parameters to predict (i.e. forward propagation)\n",
    "    \"\"\"\n",
    "    z2 = theta1 @ x\n",
    "    a2 = expit(z2) # here, a2 is a 1d array of 25\n",
    "    a2 = np.insert(a2,0,1) # insert the bias unit\n",
    "    \n",
    "    z3 = theta2 @ a2\n",
    "    a3 = expit(z3)\n",
    "    \n",
    "#     print(a3)\n",
    "    prey = np.argmax(a3)+1\n",
    "#     if prey == 10:\n",
    "#         prey = 0\n",
    "    return prey\n",
    "\n",
    "# note: \"0\" has been labeled as 10 here, due to the MATLAB convenience in the homework\n",
    "def ExamineNN(thetalist,X,y):\n",
    "    [theta1, theta2] = thetalist\n",
    "    ncorrect = 0\n",
    "    nwrong = 0\n",
    "    for xrow,yrow in zip(X,y):\n",
    "        prey = predictNN(theta1,theta2,xrow)\n",
    "        if prey == yrow:\n",
    "            ncorrect += 1\n",
    "        else:\n",
    "            nwrong +=1\n",
    "    print(f\"accuracy = {ncorrect / y.size * 100:.2f} %\")"
   ]
  },
  {
   "cell_type": "code",
   "execution_count": 425,
   "metadata": {},
   "outputs": [
    {
     "name": "stdout",
     "output_type": "stream",
     "text": [
      "accuracy = 100.00 %\n"
     ]
    }
   ],
   "source": [
    "ExamineNN(THETA3,X,y)"
   ]
  },
  {
   "cell_type": "code",
   "execution_count": 414,
   "metadata": {},
   "outputs": [],
   "source": [
    "def checkresult(X,y,thetalist,nrow):\n",
    "    img = Image.fromarray(getDatumImg(X[nrow]))\n",
    "    plt.imshow(img,cmap = cm.Greys_r)\n",
    "    prey = predictNN(thetalist[0],thetalist[1],X[nrow])\n",
    "    print(prey)"
   ]
  },
  {
   "cell_type": "code",
   "execution_count": 435,
   "metadata": {},
   "outputs": [
    {
     "name": "stdout",
     "output_type": "stream",
     "text": [
      "2\n"
     ]
    },
    {
     "data": {
      "image/png": "[encoded data removed]",
      "text/plain": [
       "<Figure size 432x288 with 1 Axes>"
      ]
     },
     "metadata": {
      "needs_background": "light"
     },
     "output_type": "display_data"
    }
   ],
   "source": [
    "checkresult(X,y,THETA3,39)"
   ]
  },
  {
   "cell_type": "code",
   "execution_count": null,
   "metadata": {},
   "outputs": [],
   "source": []
  }
 ],
 "metadata": {
  "kernelspec": {
   "display_name": "Python 3",
   "language": "python",
   "name": "python3"
  },
  "language_info": {
   "codemirror_mode": {
    "name": "ipython",
    "version": 3
   },
   "file_extension": ".py",
   "mimetype": "text/x-python",
   "name": "python",
   "nbconvert_exporter": "python",
   "pygments_lexer": "ipython3",
   "version": "3.7.3"
  }
 },
 "nbformat": 4,
 "nbformat_minor": 2
}
